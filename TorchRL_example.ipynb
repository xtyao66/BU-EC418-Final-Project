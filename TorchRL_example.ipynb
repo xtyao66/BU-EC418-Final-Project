{
 "cells": [
  {
   "attachments": {},
   "cell_type": "markdown",
   "metadata": {},
   "source": [
    "## Initialize the environment\n",
    "Need to run this cell to install the required packages"
   ]
  },
  {
   "cell_type": "code",
   "execution_count": null,
   "metadata": {},
   "outputs": [],
   "source": [
    "%pip install PySuperTuxKart\n",
    "\n",
    "%pip install imageio\n",
    "\n",
    "%pip install tensorboard\n",
    "\n",
    "%pip install gym\n",
    "\n",
    "%pip install moviepy\n",
    "\n",
    "%pip install --pre torch torchvision torchaudio --index-url https://download.pytorch.org/whl/nightly/cu124\n",
    "\n",
    "%pip install tensordict-nightly\n",
    "\n",
    "%pip install torchrl-nightly\n",
    "\n",
    "%pip install tqdm"
   ]
  },
  {
   "cell_type": "code",
   "execution_count": null,
   "metadata": {},
   "outputs": [],
   "source": [
    "# check if the GPU is available\n",
    "import torch\n",
    "print(torch.cuda.is_available())"
   ]
  },
  {
   "cell_type": "code",
   "execution_count": null,
   "metadata": {},
   "outputs": [],
   "source": [
    "\n",
    "from collections import defaultdict\n",
    "from typing import Optional\n",
    "\n",
    "import numpy as np\n",
    "import torch\n",
    "import tqdm\n",
    "from tensordict import TensorDict, TensorDictBase\n",
    "from tensordict.nn import TensorDictModule\n",
    "from torch import nn\n",
    "\n",
    "from torchrl.data import Bounded, Composite, Unbounded\n",
    "from torchrl.envs import (\n",
    "    CatTensors,\n",
    "    EnvBase,\n",
    "    Transform,\n",
    "    TransformedEnv,\n",
    "    UnsqueezeTransform,\n",
    ")\n"
   ]
  },
  {
   "cell_type": "code",
   "execution_count": null,
   "metadata": {},
   "outputs": [],
   "source": [
    "from torchrl.envs.transforms.transforms import _apply_to_composite\n",
    "from torchrl.envs.utils import check_env_specs, step_mdp\n",
    "\n",
    "import sys\n",
    "sys.path.insert(0, \"homework\")\n",
    "\n",
    "import kartEnv_TorchRL\n",
    "# the environment is a single instance environment, it is located in the kartEnv_TorchRL.py file in the homework5_colab/homework folder\n",
    "# to import the environment, you can use the following code:\n",
    "# from homework5_colab.homework import kartEnv_TorchRL\n",
    "\n",
    "# Single instance environment\n",
    "env = kartEnv_TorchRL.KartEnvTorchRL()\n",
    "# For batched environments, you can create multiple instances and parallelize\n",
    "# For example, using ParallelEnv with multiple copies\n",
    "# env = ParallelEnv([KartEnvTorchRL for _ in range(num_envs)])\n"
   ]
  },
  {
   "cell_type": "code",
   "execution_count": null,
   "metadata": {},
   "outputs": [],
   "source": [
    "check_env_specs(env)"
   ]
  },
  {
   "cell_type": "markdown",
   "metadata": {},
   "source": [
    "## Work in Progress\n",
    "This section is currently under development. Further updates and code implementations may be added when I have time."
   ]
  }
 ],
 "metadata": {
  "kernelspec": {
   "display_name": "new_venv",
   "language": "python",
   "name": "python3"
  },
  "language_info": {
   "codemirror_mode": {
    "name": "ipython",
    "version": 3
   },
   "file_extension": ".py",
   "mimetype": "text/x-python",
   "name": "python",
   "nbconvert_exporter": "python",
   "pygments_lexer": "ipython3",
   "version": "3.9.13"
  },
  "orig_nbformat": 4
 },
 "nbformat": 4,
 "nbformat_minor": 2
}
